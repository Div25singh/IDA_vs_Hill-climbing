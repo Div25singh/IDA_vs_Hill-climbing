{
 "cells": [
  {
   "cell_type": "markdown",
   "metadata": {
    "id": "MzZ4dJQYF7sH"
   },
   "source": [
    "# Artificial and Computational Intelligence Assignment 1"
   ]
  },
  {
   "cell_type": "markdown",
   "metadata": {
    "id": "Fxb1aE9zF7sK"
   },
   "source": [
    "## Problem solving by Uninformed & Informed Search"
   ]
  },
  {
   "cell_type": "markdown",
   "metadata": {
    "id": "h35jIBbCF7sK"
   },
   "source": [
    "List only the BITS (Name) of active contributors in this assignment:\n",
    "1. Ritesh Ranjan\n",
    "2. Shashank Singh\n",
    "3. Divyanshu Singh\n",
    "4. Adapa Hemachand"
   ]
  },
  {
   "cell_type": "markdown",
   "metadata": {
    "id": "pt5ygv_zF7sL"
   },
   "source": [
    "Things to follow\n",
    "1.\tUse appropriate data structures to represent the graph and the path using python libraries\n",
    "2.\tProvide proper documentation\n",
    "3.\tFind the path and print it"
   ]
  },
  {
   "cell_type": "markdown",
   "metadata": {
    "id": "wZfop5ElF7sL"
   },
   "source": [
    "Coding begins here"
   ]
  },
  {
   "cell_type": "markdown",
   "metadata": {
    "id": "IL0QDMy3F7sL"
   },
   "source": [
    "### 1.\tDefine the environment in the following block"
   ]
  },
  {
   "cell_type": "markdown",
   "metadata": {
    "id": "XJ3cHp1IF7sM"
   },
   "source": [
    "PEAS (Performance measure, Environment, Actuator, Sensor):\n",
    "\n",
    "1. Performance measure: The performance measure for the rescue robot is to find the optimal path from the start (S) to the goal (G) with the minimum cost. The cost includes the path cost of +3 for each transition, +5 for moving towards the fire cell, and +1 for moving towards the bush plant cell. The robot's objective is to minimize the total cost incurred during the pathfinding process.\n",
    "\n",
    "2. Environment: The environment is represented as a 2D grid, where each cell can be either empty ('O'), a wall ('#'), fire ('F'), bush plant ('B'), the start ('S'), or the goal ('G'). The robot has to navigate through this grid while avoiding obstacles like walls, fire, and bushes.\n",
    "\n",
    "3. Actuator: The actuator for the rescue robot allows it to move in four directions: north, south, west, and east. It can move to neighboring cells in the grid based on its current position.\n",
    "\n",
    "4. Sensor: The robot's sensors provide information about the grid's current state, including the presence of walls, fire, bushes, and the goal. The sensors also detect the type of cells surrounding the robot, helping it make decisions based on the information it receives."
   ]
  },
  {
   "cell_type": "code",
   "execution_count": 1,
   "metadata": {
    "id": "osp61RsLF7sN"
   },
   "outputs": [],
   "source": [
    "#Code Block : Set Initial State (Must handle dynamic inputs)\n",
    "\n",
    "# Global variables to track time and space complexity\n",
    "expansions = 0\n",
    "max_queue_size = 0\n",
    "\n",
    "def find_start_and_goal_indices(grid):\n",
    "    # Find the indices of the start and goal positions in the grid\n",
    "    start_index = None\n",
    "    goal_index = None\n",
    "\n",
    "    for row_idx, row in enumerate(grid):\n",
    "        for col_idx, cell in enumerate(row):\n",
    "            if cell == 'S':\n",
    "                start_index = (row_idx, col_idx)\n",
    "            elif cell == 'G':\n",
    "                goal_index = (row_idx, col_idx)\n",
    "\n",
    "            # If both 'S' and 'G' are found, we can stop the loop early\n",
    "            if start_index and goal_index:\n",
    "                break\n",
    "\n",
    "    return start_index, goal_index\n"
   ]
  },
  {
   "cell_type": "code",
   "execution_count": 2,
   "metadata": {
    "id": "XODwoWZ0F7sO"
   },
   "outputs": [],
   "source": [
    "#Code Block : Set the matrix for transition & cost (as relevant for the given problem)\n",
    "\n",
    "# Function to check if a cell is valid and not a wall\n",
    "def is_valid_cell(cell, grid):\n",
    "    x, y = cell\n",
    "    return 0 <= x < len(grid) and 0 <= y < len(grid[0]) and grid[x][y] != '#'"
   ]
  },
  {
   "cell_type": "code",
   "execution_count": 3,
   "metadata": {
    "id": "ro24Gaj7F7sO"
   },
   "outputs": [],
   "source": [
    "#Code Block : Write function to design the Transition Model/Successor function. Ideally this would be called while search algorithms are implemented\n",
    "\n",
    "# Helper function to calculate Manhattan distance between two points\n",
    "def manhattan_distance(start, goal):\n",
    "    return abs(start[0] - goal[0]) + abs(start[1] - goal[1])\n",
    "\n",
    "def calculate_space_complexity():\n",
    "    # Calculate the maximum size of the queue during the search\n",
    "    return max_queue_size\n"
   ]
  },
  {
   "cell_type": "markdown",
   "metadata": {
    "id": "Z4QwDeX5F7sO"
   },
   "source": [
    "### 2.\tDefinition of Algorithm 1 (Iterative Deepening A*)"
   ]
  },
  {
   "cell_type": "code",
   "execution_count": 4,
   "metadata": {
    "id": "zD_EPCHWF7sO"
   },
   "outputs": [],
   "source": [
    "#Code Block : Function for algorithm 1 implementation\n",
    "\n",
    "# Function to find the optimal path using IDA*\n",
    "def ida_star_search(grid, start, goal, path, path_costs):\n",
    "    global expansions, max_queue_size\n",
    "    expansions = 0\n",
    "    \n",
    "    def dfs(node, g, threshold):\n",
    "        global expansions\n",
    "        expansions += 1\n",
    "        f = g + manhattan_distance(node, goal)\n",
    "        if f > threshold:\n",
    "            return f\n",
    "        if node == goal:\n",
    "            path.append(node)\n",
    "            return -1  # Path found\n",
    "        min_cost = float('inf')\n",
    "        for dx, dy in [(-1, 0), (1, 0), (0, -1), (0, 1)]:\n",
    "            nx, ny = node[0] + dx, node[1] + dy\n",
    "            new_node = (nx, ny)\n",
    "            if is_valid_cell(new_node, grid) and new_node not in visited:\n",
    "                visited.add(new_node)\n",
    "                cost = 3  # Cost of a transition\n",
    "                if grid[new_node[0]][new_node[1]] == 'F':\n",
    "                    cost += 5  # Penalty for moving towards fire\n",
    "                elif grid[new_node[0]][new_node[1]] == 'B':\n",
    "                    cost += 1  # Additional cost for moving towards bush plant\n",
    "                new_g = g + cost\n",
    "                t = dfs(new_node, new_g, threshold)\n",
    "                if t == -1:\n",
    "                    path.append(node)\n",
    "                    path_costs.append(cost)\n",
    "                    return -1\n",
    "                if t < min_cost:\n",
    "                    min_cost = t\n",
    "                visited.remove(new_node)\n",
    "        return min_cost\n",
    "\n",
    "    threshold = manhattan_distance(start, goal)\n",
    "    while True:\n",
    "        # Reset queue size for each depth limit iteration\n",
    "        max_queue_size = 0\n",
    "        visited = {start}\n",
    "        t = dfs(start, 0, threshold)\n",
    "        if t == -1:\n",
    "            return threshold\n",
    "        if t == float('inf'):\n",
    "            return None\n",
    "        threshold = t\n"
   ]
  },
  {
   "cell_type": "markdown",
   "metadata": {
    "id": "KnbdDl6HF7sO"
   },
   "source": [
    "### 3.\tDefinition of Algorithm 2 (Hill Climbing)"
   ]
  },
  {
   "cell_type": "code",
   "execution_count": 5,
   "metadata": {
    "id": "3HYh7-eJF7sP"
   },
   "outputs": [],
   "source": [
    "#Code Block : Function for algorithm 2 implementation\n",
    "\n",
    "# Hill Climbing Search\n",
    "def hill_climbing_search(grid, start, goal, path, path_costs):\n",
    "    global expansions\n",
    "    expansions = 0\n",
    "\n",
    "    def calculate_step_cost(current_node, next_node):\n",
    "        x, y = next_node\n",
    "        cost = 3  # Cost of a transition\n",
    "        if grid[x][y] == 'F':\n",
    "            cost += 5  # Penalty for moving towards fire\n",
    "        elif grid[x][y] == 'B':\n",
    "            cost += 1  # Additional cost for moving towards bush plant\n",
    "        return cost\n",
    "\n",
    "    current_node = start\n",
    "    path.append(current_node)\n",
    "\n",
    "    while current_node != goal:\n",
    "        global max_queue_size\n",
    "        expansions += 1\n",
    "        neighbors = []\n",
    "        for dx, dy in [(-1, 0), (1, 0), (0, -1), (0, 1)]:\n",
    "            nx, ny = current_node[0] + dx, current_node[1] + dy\n",
    "            new_node = (nx, ny)\n",
    "            if is_valid_cell(new_node, grid) and new_node not in path:\n",
    "                neighbors.append(new_node)\n",
    "\n",
    "        if not neighbors:\n",
    "            # If no valid neighbors are found, we are stuck, and the search fails\n",
    "            return None\n",
    "\n",
    "        # Pick the neighbor with the lowest cost\n",
    "        min_cost = manhattan_distance(neighbors[0], goal) + calculate_step_cost(current_node, neighbors[0])\n",
    "        next_node = neighbors[0]\n",
    "        for neighbor in neighbors:\n",
    "            neighbor_cost = manhattan_distance(neighbor, goal) + calculate_step_cost(current_node, neighbor)\n",
    "            if neighbor_cost < min_cost:\n",
    "                min_cost = neighbor_cost\n",
    "                next_node = neighbor\n",
    "\n",
    "        # Move to the next node and update the current cost\n",
    "        current_node = next_node\n",
    "        path.append(current_node)\n",
    "        path_costs.append(calculate_step_cost(current_node, next_node))\n",
    "\n",
    "    return sum(path_costs)\n"
   ]
  },
  {
   "cell_type": "markdown",
   "metadata": {
    "id": "LEV2XHccF7sP"
   },
   "source": [
    "### DYNAMIC INPUT"
   ]
  },
  {
   "cell_type": "markdown",
   "metadata": {
    "id": "CylYRo_DF7sP"
   },
   "source": [
    "IMPORTANT : Dynamic Input must be got in this section. Display the possible states to choose from:\n",
    "This is applicable for all the relevent problems as mentioned in the question."
   ]
  },
  {
   "cell_type": "code",
   "execution_count": 6,
   "metadata": {
    "id": "Q5t1Lc-wF7sP"
   },
   "outputs": [
    {
     "name": "stdout",
     "output_type": "stream",
     "text": [
      "Original Environment:\n",
      "# # # # # S # # # # # # #\n",
      "# B O O O O # O O O O F #\n",
      "# O # # # O # # # # # O #\n",
      "# O # O # O O O O B # O #\n",
      "# O # O # O # # # O # O #\n",
      "# O # O O O # F O O O O #\n",
      "# O # # # O # # # # # O #\n",
      "# O O F # O # O O O O O #\n",
      "# O # # # O # O # # # # #\n",
      "# O # B O O O O O O O B #\n",
      "# O # O # # # # # O # O #\n",
      "# O # O O O O O # O # O #\n",
      "# # # O # # # O # O # O #\n",
      "# O O O # O O O O O # O #\n",
      "# # # # # # # # # G # # #\n",
      "\n",
      "Cell Types:\n",
      "# - Blocked (Wall)\n",
      "O - Empty cell (Moveable)\n",
      "S - Start\n",
      "G - Goal state\n",
      "B - Grass bush with extra cost +1\n",
      "F - Fire with extra cost +5\n",
      "\n",
      "Starting position: (0, 5)\n",
      "Goal position: (14, 9)\n",
      "\n",
      "Do you want to change the start and goal positions? (yes/no): \n",
      "\n",
      "Starting position: (0, 5)\n",
      "Goal position: (14, 9)\n"
     ]
    }
   ],
   "source": [
    "#Code Block : Function & call to get inputs (start/end state)\n",
    "def print_environment(grid):\n",
    "    # Function to print the environment grid\n",
    "    for row in grid:\n",
    "        print(' '.join(row))\n",
    "        \n",
    "def replace_cell(grid, cell_type, new_cell):\n",
    "    # Function to replace all occurrences of a specific cell type with a new cell in the grid\n",
    "    for row_idx, row in enumerate(grid):\n",
    "        for col_idx, cell in enumerate(row):\n",
    "            if cell == cell_type:\n",
    "                grid[row_idx][col_idx] = new_cell\n",
    "        \n",
    "environment = [\n",
    "        ['#','#','#','#','#','S','#','#','#','#','#','#','#'],\n",
    "        ['#','B','O','O','O','O','#','O','O','O','O','F','#'],\n",
    "        ['#','O','#','#','#','O','#','#','#','#','#','O','#'],\n",
    "        ['#','O','#','O','#','O','O','O','O','B','#','O','#'],\n",
    "        ['#','O','#','O','#','O','#','#','#','O','#','O','#'],\n",
    "        ['#','O','#','O','O','O','#','F','O','O','O','O','#'],\n",
    "        ['#','O','#','#','#','O','#','#','#','#','#','O','#'],\n",
    "        ['#','O','O','F','#','O','#','O','O','O','O','O','#'],\n",
    "        ['#','O','#','#','#','O','#','O','#','#','#','#','#'],\n",
    "        ['#','O','#','B','O','O','O','O','O','O','O','B','#'],\n",
    "        ['#','O','#','O','#','#','#','#','#','O','#','O','#'],\n",
    "        ['#','O','#','O','O','O','O','O','#','O','#','O','#'],\n",
    "        ['#','#','#','O','#','#','#','O','#','O','#','O','#'],\n",
    "        ['#','O','O','O','#','O','O','O','O','O','#','O','#'],\n",
    "        ['#','#','#','#','#','#','#','#','#','G','#','#','#'],\n",
    "    ]\n",
    "\n",
    "# Print the original environment\n",
    "print(\"Original Environment:\")\n",
    "print_environment(environment)\n",
    "\n",
    "# Explain the meaning of different cell types\n",
    "print(\"\\nCell Types:\")\n",
    "print(\"# - Blocked (Wall)\")\n",
    "print(\"O - Empty cell (Moveable)\")\n",
    "print(\"S - Start\")\n",
    "print(\"G - Goal state\")\n",
    "print(\"B - Grass bush with extra cost +1\")\n",
    "print(\"F - Fire with extra cost +5\\n\")\n",
    "\n",
    "start, goal = find_start_and_goal_indices(environment)\n",
    "print(\"Starting position:\", start)\n",
    "print(\"Goal position:\", goal)\n",
    "\n",
    "# Ask the user if they want to change the start and goal positions\n",
    "change_start_goal = input(\"\\nDo you want to change the start and goal positions? (yes/no): \").lower()\n",
    "\n",
    "if change_start_goal == 'yes':\n",
    "    # Replace the previous start and goal positions with '#'\n",
    "    replace_cell(environment, 'S', '#')\n",
    "    replace_cell(environment, 'G', '#')\n",
    "\n",
    "    # Get new start and goal positions from the user\n",
    "    new_start_input = input(\"Enter the row and column indices for the new start position (e.g., '3 5'): \").split()\n",
    "    new_goal_input = input(\"Enter the row and column indices for the new goal position (e.g., '14 10'): \").split()\n",
    "\n",
    "    # Convert user inputs to integers\n",
    "    new_start_row, new_start_col = map(int, new_start_input)\n",
    "    new_goal_row, new_goal_col = map(int, new_goal_input)\n",
    "\n",
    "    # Set the new start and goal positions in the grid\n",
    "    environment[new_start_row][new_start_col] = 'S'\n",
    "    environment[new_goal_row][new_goal_col] = 'G'\n",
    "\n",
    "    # Print the updated environment\n",
    "    print(\"\\nUpdated Environment with new start and goal positions:\")\n",
    "    print_environment(environment)\n",
    "\n",
    "start, goal = find_start_and_goal_indices(environment)\n",
    "print(\"\\nStarting position:\", start)\n",
    "print(\"Goal position:\", goal)"
   ]
  },
  {
   "cell_type": "markdown",
   "metadata": {
    "id": "xsfOP81lF7sP"
   },
   "source": [
    "### 4.\tCalling the search algorithms\n",
    "(For bidirectional search in below sections first part can be used as per Hint provided. Under second section other combinations as per Hint or your choice of 2 algorithms can be called .As an analyst suggest suitable approximation in the comparitive analysis section)"
   ]
  },
  {
   "cell_type": "code",
   "execution_count": 7,
   "metadata": {
    "id": "Og5zI9thF7sP"
   },
   "outputs": [
    {
     "name": "stdout",
     "output_type": "stream",
     "text": [
      "IDA* Optimal path cost: 54\n",
      "IDA* Optimal path sequence: [(0, 5), (1, 5), (2, 5), (3, 5), (4, 5), (5, 5), (6, 5), (7, 5), (8, 5), (9, 5), (9, 6), (9, 7), (9, 8), (9, 9), (10, 9), (11, 9), (12, 9), (13, 9), (14, 9)]\n",
      "IDA* Path costs: [3, 3, 3, 3, 3, 3, 3, 3, 3, 3, 3, 3, 3, 3, 3, 3, 3, 3]\n"
     ]
    }
   ],
   "source": [
    "#Invoke algorithm 1 (Should Print the solution, path, cost etc., (As mentioned in the problem))\n",
    "#IDA*\n",
    "visited = set()\n",
    "path_ida, path_costs_ida = [], []\n",
    "path_cost_ida = ida_star_search(environment, start, goal, path_ida, path_costs_ida)\n",
    "\n",
    "if path_cost_ida is not None:\n",
    "    print(f\"IDA* Optimal path cost: {path_cost_ida}\")\n",
    "    print(\"IDA* Optimal path sequence:\", path_ida[::-1])  # Reverse the path sequence for correct order\n",
    "    print(\"IDA* Path costs:\", path_costs_ida[::-1])  # Reverse the path costs for correct order\n",
    "else:\n",
    "    print(\"IDA* No path found!\")"
   ]
  },
  {
   "cell_type": "code",
   "execution_count": 8,
   "metadata": {
    "id": "u3MJeA6eF7sP"
   },
   "outputs": [
    {
     "name": "stdout",
     "output_type": "stream",
     "text": [
      "\n",
      "Hill Climbing Optimal path cost: 54\n",
      "Hill Climbing Optimal path sequence: [(0, 5), (1, 5), (2, 5), (3, 5), (4, 5), (5, 5), (6, 5), (7, 5), (8, 5), (9, 5), (9, 6), (9, 7), (9, 8), (9, 9), (10, 9), (11, 9), (12, 9), (13, 9), (14, 9)]\n",
      "Hill Climbing Path costs: [3, 3, 3, 3, 3, 3, 3, 3, 3, 3, 3, 3, 3, 3, 3, 3, 3, 3]\n"
     ]
    }
   ],
   "source": [
    "#Invoke algorithm 2 (Should Print the solution, path, cost etc., (As mentioned in the problem))\n",
    "# Hill Climbing Search\n",
    "path_hill_climbing, path_costs_hill_climbing = [], []\n",
    "path_cost_hill_climbing = hill_climbing_search(environment, start, goal, path_hill_climbing, path_costs_hill_climbing)\n",
    "\n",
    "if path_cost_hill_climbing is not None:\n",
    "    print(\"\\nHill Climbing Optimal path cost:\", path_cost_hill_climbing)\n",
    "    print(\"Hill Climbing Optimal path sequence:\", path_hill_climbing)\n",
    "    print(\"Hill Climbing Path costs:\", path_costs_hill_climbing)\n",
    "else:\n",
    "    print(\"Hill Climbing: No path found!\")"
   ]
  },
  {
   "cell_type": "markdown",
   "metadata": {
    "id": "TOU3Rem6F7sQ"
   },
   "source": [
    "### 5.\tComparitive Analysis"
   ]
  },
  {
   "cell_type": "code",
   "execution_count": 9,
   "metadata": {
    "id": "HG6fWwiIF7sQ"
   },
   "outputs": [
    {
     "name": "stdout",
     "output_type": "stream",
     "text": [
      "Space Complexity: 0\n",
      "Time Complexity: 18\n"
     ]
    }
   ],
   "source": [
    "#Code Block : Print the Time & Space complexity of algorithm 1\n",
    "# Calculate space complexity for Iterative Deepening A* Algorithm\n",
    "space_complexity = calculate_space_complexity()\n",
    "print(\"Space Complexity:\", space_complexity)\n",
    "print(\"Time Complexity:\", expansions)"
   ]
  },
  {
   "cell_type": "code",
   "execution_count": 10,
   "metadata": {
    "id": "xMButLKCF7sQ"
   },
   "outputs": [
    {
     "name": "stdout",
     "output_type": "stream",
     "text": [
      "Space Complexity (Hill Climbing): 0\n",
      "Time Complexity (Hill Climbing): 18\n"
     ]
    }
   ],
   "source": [
    "#Code Block : Print the Time & Space complexity of algorithm 2\n",
    "\n",
    "# Calculate space complexity for Hill Climbing Algorithm\n",
    "space_complexity_hill_climbing = calculate_space_complexity()\n",
    "print(\"Space Complexity (Hill Climbing):\", space_complexity_hill_climbing)\n",
    "print(\"Time Complexity (Hill Climbing):\", expansions)"
   ]
  },
  {
   "cell_type": "markdown",
   "metadata": {
    "id": "y2nXwAlsF7sQ"
   },
   "source": [
    "### 6.\tProvide your comparitive analysis or findings in no more than 3 lines in below section"
   ]
  },
  {
   "cell_type": "markdown",
   "metadata": {
    "id": "si483-zoF7sQ"
   },
   "source": [
    "Comparison : _______________________________________________\n",
    "\n",
    "1. Based on the characteristics of the environment and the requirements for finding the optimal path, IDA* is likely the better choice. It guarantees optimality and can effectively handle complex search spaces with obstacles. However, if you are looking for a faster but potentially suboptimal solution, Hill Climbing could be considered.\n",
    "2. In this environment, Hill Climbing may struggle to find the optimal path due to obstacles and complex structures. It could get stuck in local optima or fail to find a solution altogether.\n",
    "________________________________________________________\n",
    "\n",
    "_________________________________________________________"
   ]
  }
 ],
 "metadata": {
  "colab": {
   "provenance": []
  },
  "kernelspec": {
   "display_name": "Python 3 (ipykernel)",
   "language": "python",
   "name": "python3"
  },
  "language_info": {
   "codemirror_mode": {
    "name": "ipython",
    "version": 3
   },
   "file_extension": ".py",
   "mimetype": "text/x-python",
   "name": "python",
   "nbconvert_exporter": "python",
   "pygments_lexer": "ipython3",
   "version": "3.10.9"
  }
 },
 "nbformat": 4,
 "nbformat_minor": 1
}
